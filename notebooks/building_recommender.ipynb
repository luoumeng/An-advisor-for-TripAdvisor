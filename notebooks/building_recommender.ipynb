{
 "cells": [
  {
   "cell_type": "code",
   "execution_count": 1,
   "metadata": {
    "collapsed": false
   },
   "outputs": [],
   "source": [
    "%load_ext Cython"
   ]
  },
  {
   "cell_type": "code",
   "execution_count": 7,
   "metadata": {
    "collapsed": false
   },
   "outputs": [
    {
     "name": "stdout",
     "output_type": "stream",
     "text": [
      "CPU times: user 9.41 ms, sys: 3.77 ms, total: 13.2 ms\n",
      "Wall time: 12.9 ms\n"
     ]
    }
   ],
   "source": [
    "%%time\n",
    "%%cython\n",
    "from gensim.models import doc2vec\n",
    "import nltk\n",
    "import re\n",
    "\n",
    "def split_sentence(sentence):\n",
    "    words = re.split('\\W+', sentence.lower())\n",
    "    return [word for word in words if word != \"\"]\n",
    "\n",
    "class MyDocs(object):\n",
    "    def __iter__(self):\n",
    "        for i, text in enumerate(open(\"revtxt10k.txt\")):\n",
    "            yield doc2vec.LabeledSentence(words=split_sentence(text), tags=['%s' % i])\n",
    "\n",
    "# Train the doc2vec model\n",
    "cdef mydocs = MyDocs()\n",
    "model = doc2vec.Doc2Vec(mydocs, size = 200, window = 8, min_count = 5, workers = 4)\n",
    "model.save('revtxt10k.model')"
   ]
  },
  {
   "cell_type": "code",
   "execution_count": 11,
   "metadata": {
    "collapsed": false,
    "scrolled": true
   },
   "outputs": [
    {
     "name": "stdout",
     "output_type": "stream",
     "text": [
      "[('shower', 0.8263002634048462), ('toilet', 0.7940653562545776), ('carpet', 0.7919286489486694)]\n"
     ]
    }
   ],
   "source": [
    "model = doc2vec.Doc2Vec.load('revtxt10k.model')\n",
    "print model.most_similar(positive=[\"dirty\", \"bathroom\"], negative=[\"clean\"], topn=3)"
   ]
  },
  {
   "cell_type": "code",
   "execution_count": 14,
   "metadata": {
    "collapsed": false
   },
   "outputs": [
    {
     "name": "stdout",
     "output_type": "stream",
     "text": [
      "(Review-5371, Similarity:0.4611): \tIt had a nice pool. It was cheap. It had free breakfast, but it also had ants--in the bathroom.\n",
      "\n",
      "(Review-5447, Similarity:0.4607): \tGreat hotel not area we needed but for price great. Rooms are very clean. Beds comfortable. Breakfast not good. Would stay there again but not eat breakfast.\n",
      "\n",
      "(Review-5931, Similarity:0.4566): \tMy family and I have been coming since 2003 to this location.We come every summer. It's always clean, the best staff, and the closest location to Disneyland and the nightlife. I enjoy the breakfast as well.\n",
      "\n"
     ]
    }
   ],
   "source": [
    "import numpy as np\n",
    "# Calculate the cosine similarity between two vecotrs \n",
    "def cossim(v1, v2):\n",
    "    return np.dot(v1, v2) / np.sqrt(np.dot(v1, v1)) / np.sqrt(np.dot(v2, v2))\n",
    "\n",
    "# Get the specific line of the review text file\n",
    "def get_line(filename, n):\n",
    "    with open(filename) as f:\n",
    "        for i, e in enumerate(f):\n",
    "            if i == n:\n",
    "                return e\n",
    "# Get the index of top n most similar review\n",
    "def argmaxn(l, n):\n",
    "    l_copy = list(l)\n",
    "    args = []\n",
    "    for i in range(n):\n",
    "        arg = np.argmax(l_copy)\n",
    "        args.append(arg)\n",
    "        l_copy[arg] = -float('inf')\n",
    "    return args\n",
    "\n",
    "# Calculate the vector of input text according to our training model\n",
    "input_text = \"good breakfast, clean bathroom\"\n",
    "input_vec = model.infer_vector(split_sentence(input_text))\n",
    "\n",
    "# Compute the cosine similarity values between the input text and all archived reviews\n",
    "cossims_with_input = map(lambda v: cossim(input_vec, v), model.docvecs)\n",
    "\n",
    "# Print the reviews with the highest cosine similarity values\n",
    "sim_ids = argmaxn(cossims_with_input, 3)\n",
    "for i in range(3):\n",
    "    print \"(Review-%s, Similarity:%.4f):\" % (sim_ids[i] + 1, cossims_with_input[sim_ids[i]]),\\\n",
    "          get_line('revtxt10k.txt', sim_ids[i])"
   ]
  },
  {
   "cell_type": "code",
   "execution_count": 15,
   "metadata": {
    "collapsed": false
   },
   "outputs": [
    {
     "name": "stdout",
     "output_type": "stream",
     "text": [
      "HotelID is: 75697 and the similarity is equal to: 0.1238, also you can find the link here http://www.tripadvisor.com/ShowUserReviews-g29092-d75697-r177328255-Park_Vue_Inn-Anaheim_California.html#CHECK_RATES_CONT\n",
      "HotelID is: 78781 and the similarity is equal to: 0.1131, also you can find the link here http://www.tripadvisor.com/ShowUserReviews-g29092-d78781-r176917523-Ramada_Plaza_Anaheim-Anaheim_California.html#CHECK_RATES_CONT\n",
      "HotelID is: 75732 and the similarity is equal to: 0.1007, also you can find the link here http://www.tripadvisor.com/ShowUserReviews-g29092-d75732-r177153429-Super_8_Anaheim_Disneyland_Drive-Anaheim_California.html#CHECK_RATES_CONT\n"
     ]
    }
   ],
   "source": [
    "# Construct a data frame with the hotel IDs and document-vectors of all archived reviews\n",
    "hotel_textvecs = pd.read_csv('hotel_info.txt')\n",
    "hotel_textvecs['Textvec'] = model.docvecs\n",
    "\n",
    "# Compute similarity scores between the input text and the hotels (defined here as the cosine similarity between\n",
    "# the document-vector of the input text and the sum/mean of the document-vectors of all the reviews of a hotel --\n",
    "# no difference between sum and mean)\n",
    "hotel_cossims = hotel_textvecs.groupby('HotelID').agg(lambda v: cossim(np.sum(v), input_vec))\n",
    "\n",
    "# Print the reviews with the highest similarity scores\n",
    "sim_ids = argmaxn(hotel_cossims['Textvec'], 3)\n",
    "\n",
    "for i in range(3):\n",
    "    hotel = hotel_cossims.index[sim_ids[i]]\n",
    "    print \"HotelID is: %s\" % hotel, \"and the similarity is equal to: %.4f,\" % hotel_cossims.Textvec[hotel], \\\n",
    "    'also you can find the link here %s' % hotel_textvecs.ix[hotel_textvecs['HotelID']==hotel]['PageUrl'].iloc[0]"
   ]
  },
  {
   "cell_type": "code",
   "execution_count": null,
   "metadata": {
    "collapsed": true
   },
   "outputs": [],
   "source": []
  }
 ],
 "metadata": {
  "kernelspec": {
   "display_name": "Python 2",
   "language": "python",
   "name": "python2"
  },
  "language_info": {
   "codemirror_mode": {
    "name": "ipython",
    "version": 2
   },
   "file_extension": ".py",
   "mimetype": "text/x-python",
   "name": "python",
   "nbconvert_exporter": "python",
   "pygments_lexer": "ipython2",
   "version": "2.7.6"
  }
 },
 "nbformat": 4,
 "nbformat_minor": 0
}
